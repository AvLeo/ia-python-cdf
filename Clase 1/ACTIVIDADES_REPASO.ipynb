{
 "cells": [
  {
   "attachments": {},
   "cell_type": "markdown",
   "metadata": {},
   "source": [
    "# <center>ACTIVIDAD DE REPASO CON PYTHON</center>\n",
    "\n",
    "En este notebook pueden repasar los conceptos vistos en clase y practicar con algunos ejercicios, cada bloque cuenta con una consigna, una vez resuelto pueden ejecutar el bloque de abajo para hacer un testeo de su código.\n",
    "\n",
    "__Siempre ejecuten el bloque solucion antes de ejecutar el bloque testeo, para que el testeo funcione correctamente.__"
   ]
  },
  {
   "attachments": {},
   "cell_type": "markdown",
   "metadata": {},
   "source": [
    "## EJEMPLO DE EJERCICIO RESUELTO\n",
    "\n",
    "Funcion que recibe un número y devuelve el cuadrado del mismo.\n"
   ]
  },
  {
   "cell_type": "code",
   "execution_count": null,
   "metadata": {},
   "outputs": [],
   "source": [
    "def ejemplo(variable):\n",
    "    return variable**2"
   ]
  },
  {
   "cell_type": "code",
   "execution_count": null,
   "metadata": {},
   "outputs": [],
   "source": [
    "# TEST EJEMPLO\n",
    "try:\n",
    "    assert ejemplo(2) == 4\n",
    "    assert ejemplo(3) == 9\n",
    "    print(\"EJEMPLO OK\")\n",
    "except AssertionError:\n",
    "    print(\"ERROR\")"
   ]
  },
  {
   "attachments": {},
   "cell_type": "markdown",
   "metadata": {},
   "source": [
    "## EJERCICIO 1\n",
    "Crear una funcion que recibe una variable y devuelva si dicha variable es mayor, menor o igual a 0. \n",
    "\n",
    "*(Devolver \"mayor\" si es mayor a 0, \"menor\" si es menor a 0 y \"igual\" si es igual a 0)*"
   ]
  },
  {
   "cell_type": "code",
   "execution_count": 1,
   "metadata": {},
   "outputs": [],
   "source": [
    "def ejercicio1(variable):\n",
    "    #completar y borrar pass\n",
    "    if variable == 0 : return 'igual'\n",
    "    if variable < 0 : return 'menor'\n",
    "    return 'mayor'"
   ]
  },
  {
   "cell_type": "code",
   "execution_count": 2,
   "metadata": {},
   "outputs": [
    {
     "name": "stdout",
     "output_type": "stream",
     "text": [
      "Ejercicio 1 CORRECTO ✅\n"
     ]
    }
   ],
   "source": [
    "# TEST EJERCICIO 1\n",
    "try:\n",
    "    assert ejercicio1(1) == \"mayor\"\n",
    "    assert ejercicio1(-1) == \"menor\"\n",
    "    assert ejercicio1(0) == \"igual\"\n",
    "    print(\"Ejercicio 1 CORRECTO ✅\")\n",
    "except AssertionError:\n",
    "    print(\"Ejercicio 1 INCORRECTO ❌\")"
   ]
  },
  {
   "attachments": {},
   "cell_type": "markdown",
   "metadata": {},
   "source": [
    "## EJERCICIO 2\n",
    "\n",
    "Crear una funcion que recibe una lista de numeros y devuelva la suma de todos los numeros de la lista."
   ]
  },
  {
   "cell_type": "code",
   "execution_count": null,
   "metadata": {},
   "outputs": [],
   "source": [
    "def ejercicio2(lista):\n",
    "    #completar y borrar pass\n",
    "    pass"
   ]
  },
  {
   "cell_type": "code",
   "execution_count": null,
   "metadata": {},
   "outputs": [],
   "source": [
    "# TEST EJERCICIO 2\n",
    "try:\n",
    "    assert ejercicio2([1,2,3,4,5]) == 15\n",
    "    assert ejercicio2([1,2,3,4,-3,-2]) == 5\n",
    "    print(\"Ejercicio 2 CORRECTO ✅\")\n",
    "except AssertionError:\n",
    "    print(\"Ejercicio 2 INCORRECTO ❌\")"
   ]
  },
  {
   "attachments": {},
   "cell_type": "markdown",
   "metadata": {},
   "source": [
    "## EJERCICIO 3\n",
    "\n",
    "Crear una funcion que reciba una variable y devuelva el tipo de dato de dicha variable.\n",
    "\n",
    "*(Devolver \"entero\" si es un entero, \"flotante\" si es un flotante, \"cadena\" si es una cadena de texto, \"booleano\" si es un booleano y \"otro\" si es otro tipo de dato)*"
   ]
  },
  {
   "cell_type": "code",
   "execution_count": null,
   "metadata": {},
   "outputs": [],
   "source": [
    "def ejercicio3(variable):\n",
    "    #completar y borrar pass\n",
    "    if variable == bool: return 'booleano'\n",
    "    elif variable == str: return 'booleano'\n",
    "    elif variable == float: return 'flotante'\n",
    "    elif variable == bool: return 'booleano'"
   ]
  },
  {
   "cell_type": "code",
   "execution_count": null,
   "metadata": {},
   "outputs": [],
   "source": [
    "#TEST EJERCICIO 3\n",
    "try:\n",
    "    assert ejercicio3(\"Hola\")==\"cadena\"\n",
    "    assert ejercicio3(1)==\"entero\"\n",
    "    assert ejercicio3(1.0)==\"flotante\"\n",
    "    assert ejercicio3(True)==\"booleano\"\n",
    "    assert ejercicio3([1,2,3])==\"otro\"\n",
    "    print(\"Ejercicio 3 CORRECTO ✅\")\n",
    "except AssertionError:\n",
    "    print(\"Ejercicio 3 INCORRECTO ❌\")"
   ]
  },
  {
   "attachments": {},
   "cell_type": "markdown",
   "metadata": {},
   "source": [
    "## EJERCICIO 4\n",
    "\n",
    "Crear una funcion que reciba una lista y devuelva otra contieniendo solo los numeros pares de la lista original.\n",
    "\n",
    "*Recomendación: revisar la parte de operadores matemáticos*\n",
    "*(Devolver una lista vacia si no hay numeros pares)*"
   ]
  },
  {
   "cell_type": "code",
   "execution_count": null,
   "metadata": {},
   "outputs": [],
   "source": [
    "def ejercicio4(lista):\n",
    "    #completar y borrar pass\n",
    "    pass\n"
   ]
  },
  {
   "cell_type": "code",
   "execution_count": null,
   "metadata": {},
   "outputs": [],
   "source": [
    "# TEST EJERCICIO 4\n",
    "try:\n",
    "    assert ejercicio4([1,2,3,4,5]) == [2,4]\n",
    "    assert ejercicio4([1,2,3,4,-3,-2]) == [2,4,-2]\n",
    "    assert ejercicio4([1,3,5,7]) == []\n",
    "    print(\"Ejercicio 4 CORRECTO ✅\")\n",
    "except AssertionError:\n",
    "    print(\"Ejercicio 4 INCORRECTO ❌\")"
   ]
  },
  {
   "attachments": {},
   "cell_type": "markdown",
   "metadata": {},
   "source": [
    "## EJERCICIO 5\n",
    "\n",
    "Un __palíndromo__ es una palabra, número o frase que se lee igual hacia adelante que hacia atrás. \n",
    "\n",
    "Crear una funcion que reciba una cadena de texto y devuelva si dicha cadena es un palíndromo o no.\n",
    "\n",
    "*(Devolver True si es un palíndromo y False si no lo es)*"
   ]
  },
  {
   "cell_type": "code",
   "execution_count": null,
   "metadata": {},
   "outputs": [],
   "source": [
    "def ejercicio5(cadena):\n",
    "    #completar y borrar pass\n",
    "    pass"
   ]
  },
  {
   "cell_type": "code",
   "execution_count": null,
   "metadata": {},
   "outputs": [],
   "source": [
    "# TEST EJERCICIO 5\n",
    "try:\n",
    "    assert ejercicio5(\"hola\") == False\n",
    "    assert ejercicio5(\"reconocer\") == True\n",
    "    assert ejercicio5(\"123454321\") == True\n",
    "    print(\"Ejercicio 5 CORRECTO ✅\")\n",
    "except AssertionError:\n",
    "    print(\"Ejercicio 5 INCORRECTO ❌\")"
   ]
  },
  {
   "attachments": {},
   "cell_type": "markdown",
   "metadata": {},
   "source": [
    "## EJERCICIO 6\n",
    "\n",
    "Juan tiene cierta cantidad de manzanas. Si le dieras 3 manzanas más, él tendría el doble de la cantidad que tenía originalmente. Escribe una función que determine cuántas manzanas tenía Juan originalmente\n",
    "\n",
    "*__variable__ es la cantidad de manzanas que tiene Juan incluyendo las 3 que le dimos*"
   ]
  },
  {
   "cell_type": "code",
   "execution_count": null,
   "metadata": {},
   "outputs": [],
   "source": [
    "def ejercicio6(variable):\n",
    "    #completar y borrar pass\n",
    "    pass"
   ]
  },
  {
   "cell_type": "code",
   "execution_count": null,
   "metadata": {},
   "outputs": [],
   "source": [
    "# TEST EJERCICIO 6\n",
    "try:\n",
    "    assert ejercicio6(9) == 3\n",
    "    assert ejercicio6(17) == 7\n",
    "    print(\"Ejercicio 6 CORRECTO ✅\")\n",
    "except AssertionError:\n",
    "    print(\"Ejercicio 6 INCORRECTO ❌\")"
   ]
  },
  {
   "attachments": {},
   "cell_type": "markdown",
   "metadata": {},
   "source": [
    "## EJERCICIO 7\n",
    "\n",
    "Crear una funcion que devuelva un diccionario con las claves \"nombre\", \"apellido\", \"edad\" y \"dni\".\n",
    "\n",
    "*(Devolver los valores que quieran para cada clave)*"
   ]
  },
  {
   "cell_type": "code",
   "execution_count": null,
   "metadata": {},
   "outputs": [],
   "source": [
    "def ejercicio7():\n",
    "    #completar y borrar pass\n",
    "    pass"
   ]
  },
  {
   "cell_type": "code",
   "execution_count": null,
   "metadata": {},
   "outputs": [],
   "source": [
    "# TEST EJERCICIO 7\n",
    "try:\n",
    "    assert \"nombre\" in ejercicio7()\n",
    "    assert \"apellido\" in ejercicio7()\n",
    "    assert \"edad\" in ejercicio7()\n",
    "    assert \"dni\" in ejercicio7()\n",
    "    print(\"Ejercicio 7 CORRECTO ✅\")\n",
    "except AssertionError:\n",
    "    print(\"Ejercicio 7 INCORRECTO ❌\")"
   ]
  },
  {
   "attachments": {},
   "cell_type": "markdown",
   "metadata": {},
   "source": [
    "## EJERCICIO 8\n",
    "\n",
    "Dada una lista de nombres, crear una funcion que devuelva una lista con los nombres que empiezan con la letra guardada en la variable \"letra\"."
   ]
  },
  {
   "cell_type": "code",
   "execution_count": null,
   "metadata": {},
   "outputs": [],
   "source": [
    "def ejercicio8(letra,lista):\n",
    "    #completar y borrar pass\n",
    "    pass  "
   ]
  },
  {
   "cell_type": "code",
   "execution_count": null,
   "metadata": {},
   "outputs": [],
   "source": [
    "# TEST EJERCICIO 8\n",
    "try:\n",
    "    assert ejercicio8(\"A\",[\"Augusto\",\"Juan\",\"Maria\",\"Ana\",\"Pedro\",\"Emilia\",\"Alberto\"]) == [\"Augusto\",\"Ana\",\"Alberto\"]\n",
    "    assert ejercicio8(\"F\",[\"Jose\",\"Francisco\",\"Pablo\",\"Fernanda\",\"Florencia\"]) == [\"Francisco\",\"Fernanda\",\"Florencia\"]\n",
    "    print(\"Ejercicio 8 CORRECTO ✅\")\n",
    "except AssertionError:\n",
    "    print(\"Ejercicio 8 INCORRECTO ❌\")"
   ]
  },
  {
   "attachments": {},
   "cell_type": "markdown",
   "metadata": {},
   "source": [
    "## EJERCICIO 9\n",
    "\n",
    "Escribir una funcion que devuelva un objeto de la clase clase llamada \"Persona\", que contenga como atributos el nombre y la edad de una persona, y como métodos una funcion que devuelva True si la persona es mayor de edad y False si no lo es.\n",
    "\n",
    "*Repasar la parte de clases y objetos*\n",
    "\n",
    "*Ejemplo:*\n",
    "\n",
    "```python\n",
    "class Persona():\n",
    "    ...\n",
    "    \n",
    "return Persona(nombre, apellido, edad, dni)\n",
    "```"
   ]
  },
  {
   "cell_type": "code",
   "execution_count": null,
   "metadata": {},
   "outputs": [],
   "source": [
    "def ejercicio9():\n",
    "    #completar y borrar pass\n",
    "    pass"
   ]
  },
  {
   "cell_type": "code",
   "execution_count": null,
   "metadata": {},
   "outputs": [],
   "source": [
    "# TEST EJERCICIO 9\n",
    "try:\n",
    "    #ejercicio9 devuelve un objeto de la clase Persona\n",
    "    #comprobar que tiene nombre, apellido, edad y dni\n",
    "    #y metodo es_mayor_de_edad\n",
    "    persona=ejercicio9()\n",
    "    assert \"nombre\" in persona.__dict__ and \"apellido\" in persona.__dict__ and \"edad\" in persona.__dict__ and \"dni\" in persona.__dict__\n",
    "    assert callable(getattr(persona,\"es_mayor_de_edad\",None))\n",
    "    print(\"Ejercicio 9 CORRECTO ✅\")\n",
    "except AttributeError:\n",
    "    print(\"Ejercicio 9 INCORRECTO ❌\")\n",
    "except AssertionError:\n",
    "    print(\"Ejercicio 9 INCORRECTO ❌\")"
   ]
  },
  {
   "attachments": {},
   "cell_type": "markdown",
   "metadata": {},
   "source": [
    "## EJERCICIO 10\n",
    "\n",
    "Crear una funcion que recibe un laberinto en forma de matriz y debe devolver la posicion de la salida del laberinto.\n",
    "\n",
    "*El laberinto es una matriz donde \"#\" representa una pared, un espacio \" \" representa un pasillo y \"S\" representa la salida*\n",
    "\n",
    "*Ejemplo:*\n",
    "\n",
    "```python\n",
    "laberinto = [[\"#\",\"#\",\"#\",\"#\",\"#\",\"#\"],\n",
    "             [\"#\",\" \",\" \",\" \",\"#\",\"#\"],\n",
    "             [\"#\",\" \",\"#\",\" \",\" \",\"#\"],\n",
    "             [\"#\",\" \",\"#\",\"#\",\" \",\"#\"],\n",
    "             [\"#\",\" \",\" \",\"#\",\" \",\"#\"],\n",
    "             [\"#\",\"#\",\"#\",\"#\",\"S\",\"#\"]]\n",
    "```\n",
    "La funcion debe recorrer elemento por elemento hasta encontrar la S y devolver la posicion de la S en forma de tupla (fila, columna).\n",
    "*Recomendación: utilizar un bucle for anidado (un for dentro de otro for) donde el primero recorra las filas y el segundo las columnas.*\n"
   ]
  },
  {
   "cell_type": "code",
   "execution_count": 12,
   "metadata": {},
   "outputs": [],
   "source": [
    "def ejercicio10(laberinto):\n",
    "    #completar y borrar pass\n",
    "    for i in range(len(laberinto)):\n",
    "        for j in range(i):\n",
    "            if laberinto[i][j] == \"S\":\n",
    "               final = (i,j)\n",
    "               return final\n",
    "        "
   ]
  },
  {
   "cell_type": "code",
   "execution_count": 14,
   "metadata": {},
   "outputs": [
    {
     "name": "stdout",
     "output_type": "stream",
     "text": [
      "Ejercicio 10 CORRECTO ✅\n"
     ]
    }
   ],
   "source": [
    "# TEST EJERCICIO 10\n",
    "try:\n",
    "    laberinto=[[\"#\", \"#\", \"#\", \"#\", \"#\", \"#\", \"#\", \"#\", \"#\", \"#\"],\n",
    "                [\"#\", \" \", \" \", \" \", \" \", \" \", \" \", \" \", \" \", \"#\"],\n",
    "                [\"#\", \" \", \"#\", \"#\", \"#\", \"#\", \"#\", \"#\", \" \", \"#\"],\n",
    "                [\"#\", \" \", \"#\", \" \", \" \", \" \", \" \", \" \", \" \", \"#\"],\n",
    "                [\"#\", \" \", \"#\", \" \", \"#\", \"#\", \"#\", \"#\", \" \", \"#\"],\n",
    "                [\"#\", \" \", \"#\", \" \", \"#\", \" \", \" \", \" \", \" \", \"#\"],\n",
    "                [\"#\", \" \", \"#\", \" \", \"#\", \" \", \"#\", \"#\", \" \", \"#\"],\n",
    "                [\"#\", \" \", \"#\", \" \", \"#\", \" \", \"#\", \"#\", \" \", \"#\"],\n",
    "                [\"#\", \"S\", \" \", \" \", \"#\", \" \", \" \", \" \", \" \", \"#\"],\n",
    "                [\"#\", \"#\", \"#\", \"#\", \"#\", \"#\", \"#\", \"#\", \"#\", \"#\"]]\n",
    "    assert ejercicio10(laberinto) == (8,1)\n",
    "    print(\"Ejercicio 10 CORRECTO ✅\")\n",
    "except AssertionError:\n",
    "    print(\"Ejercicio 10 INCORRECTO ❌\")"
   ]
  }
 ],
 "metadata": {
  "kernelspec": {
   "display_name": "Python 3",
   "language": "python",
   "name": "python3"
  },
  "language_info": {
   "codemirror_mode": {
    "name": "ipython",
    "version": 3
   },
   "file_extension": ".py",
   "mimetype": "text/x-python",
   "name": "python",
   "nbconvert_exporter": "python",
   "pygments_lexer": "ipython3",
   "version": "3.11.3"
  },
  "orig_nbformat": 4
 },
 "nbformat": 4,
 "nbformat_minor": 2
}
